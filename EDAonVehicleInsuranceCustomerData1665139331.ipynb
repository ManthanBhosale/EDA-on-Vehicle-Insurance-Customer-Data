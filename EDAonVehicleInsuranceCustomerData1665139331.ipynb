{
 "cells": [
  {
   "cell_type": "code",
   "execution_count": 1,
   "id": "fff660cc",
   "metadata": {},
   "outputs": [],
   "source": [
    "#import libraries\n",
    "import pandas as pd\n",
    "import numpy as np"
   ]
  },
  {
   "cell_type": "markdown",
   "id": "32de35cf",
   "metadata": {},
   "source": [
    "### Reading .csv Files "
   ]
  },
  {
   "cell_type": "code",
   "execution_count": 2,
   "id": "f0d229ad",
   "metadata": {},
   "outputs": [],
   "source": [
    "#Reading .csv file to dataframe and Adding column names\n",
    "\n",
    "customer_details = pd.read_csv('.\\customer_details.csv')"
   ]
  },
  {
   "cell_type": "code",
   "execution_count": 3,
   "id": "2c20f454",
   "metadata": {},
   "outputs": [],
   "source": [
    "#Reading .csv file to dataframe and Adding column names\n",
    "\n",
    "customer_policy_details = pd.read_csv('.\\customer_policy_details.csv')\n"
   ]
  },
  {
   "cell_type": "markdown",
   "id": "bee36960",
   "metadata": {},
   "source": [
    " ## 1.Add the column names to both datasets:"
   ]
  },
  {
   "cell_type": "markdown",
   "id": "13d92a12",
   "metadata": {},
   "source": [
    "### i. Column Names for customer details table"
   ]
  },
  {
   "cell_type": "code",
   "execution_count": 4,
   "id": "7f136f6d",
   "metadata": {},
   "outputs": [
    {
     "data": {
      "text/html": [
       "<div>\n",
       "<style scoped>\n",
       "    .dataframe tbody tr th:only-of-type {\n",
       "        vertical-align: middle;\n",
       "    }\n",
       "\n",
       "    .dataframe tbody tr th {\n",
       "        vertical-align: top;\n",
       "    }\n",
       "\n",
       "    .dataframe thead th {\n",
       "        text-align: right;\n",
       "    }\n",
       "</style>\n",
       "<table border=\"1\" class=\"dataframe\">\n",
       "  <thead>\n",
       "    <tr style=\"text-align: right;\">\n",
       "      <th></th>\n",
       "      <th>customer_id</th>\n",
       "      <th>Gender</th>\n",
       "      <th>age</th>\n",
       "      <th>driving licence present</th>\n",
       "      <th>region code</th>\n",
       "      <th>previously insured</th>\n",
       "      <th>vehicle age</th>\n",
       "      <th>vehicle damage</th>\n",
       "    </tr>\n",
       "  </thead>\n",
       "  <tbody>\n",
       "    <tr>\n",
       "      <th>0</th>\n",
       "      <td>1.0</td>\n",
       "      <td>Male</td>\n",
       "      <td>44.0</td>\n",
       "      <td>1.0</td>\n",
       "      <td>28.0</td>\n",
       "      <td>0.0</td>\n",
       "      <td>&gt; 2 Years</td>\n",
       "      <td>Yes</td>\n",
       "    </tr>\n",
       "    <tr>\n",
       "      <th>1</th>\n",
       "      <td>2.0</td>\n",
       "      <td>Male</td>\n",
       "      <td>76.0</td>\n",
       "      <td>1.0</td>\n",
       "      <td>3.0</td>\n",
       "      <td>0.0</td>\n",
       "      <td>1-2 Year</td>\n",
       "      <td>No</td>\n",
       "    </tr>\n",
       "    <tr>\n",
       "      <th>2</th>\n",
       "      <td>3.0</td>\n",
       "      <td>Male</td>\n",
       "      <td>47.0</td>\n",
       "      <td>1.0</td>\n",
       "      <td>28.0</td>\n",
       "      <td>0.0</td>\n",
       "      <td>&gt; 2 Years</td>\n",
       "      <td>Yes</td>\n",
       "    </tr>\n",
       "    <tr>\n",
       "      <th>3</th>\n",
       "      <td>4.0</td>\n",
       "      <td>Male</td>\n",
       "      <td>21.0</td>\n",
       "      <td>1.0</td>\n",
       "      <td>11.0</td>\n",
       "      <td>1.0</td>\n",
       "      <td>&lt; 1 Year</td>\n",
       "      <td>No</td>\n",
       "    </tr>\n",
       "    <tr>\n",
       "      <th>4</th>\n",
       "      <td>5.0</td>\n",
       "      <td>Female</td>\n",
       "      <td>29.0</td>\n",
       "      <td>1.0</td>\n",
       "      <td>41.0</td>\n",
       "      <td>1.0</td>\n",
       "      <td>&lt; 1 Year</td>\n",
       "      <td>No</td>\n",
       "    </tr>\n",
       "    <tr>\n",
       "      <th>...</th>\n",
       "      <td>...</td>\n",
       "      <td>...</td>\n",
       "      <td>...</td>\n",
       "      <td>...</td>\n",
       "      <td>...</td>\n",
       "      <td>...</td>\n",
       "      <td>...</td>\n",
       "      <td>...</td>\n",
       "    </tr>\n",
       "    <tr>\n",
       "      <th>381104</th>\n",
       "      <td>381105.0</td>\n",
       "      <td>Male</td>\n",
       "      <td>74.0</td>\n",
       "      <td>1.0</td>\n",
       "      <td>26.0</td>\n",
       "      <td>1.0</td>\n",
       "      <td>1-2 Year</td>\n",
       "      <td>No</td>\n",
       "    </tr>\n",
       "    <tr>\n",
       "      <th>381105</th>\n",
       "      <td>381106.0</td>\n",
       "      <td>Male</td>\n",
       "      <td>30.0</td>\n",
       "      <td>1.0</td>\n",
       "      <td>37.0</td>\n",
       "      <td>1.0</td>\n",
       "      <td>&lt; 1 Year</td>\n",
       "      <td>No</td>\n",
       "    </tr>\n",
       "    <tr>\n",
       "      <th>381106</th>\n",
       "      <td>381107.0</td>\n",
       "      <td>Male</td>\n",
       "      <td>21.0</td>\n",
       "      <td>1.0</td>\n",
       "      <td>30.0</td>\n",
       "      <td>1.0</td>\n",
       "      <td>&lt; 1 Year</td>\n",
       "      <td>No</td>\n",
       "    </tr>\n",
       "    <tr>\n",
       "      <th>381107</th>\n",
       "      <td>381108.0</td>\n",
       "      <td>Female</td>\n",
       "      <td>68.0</td>\n",
       "      <td>1.0</td>\n",
       "      <td>14.0</td>\n",
       "      <td>0.0</td>\n",
       "      <td>&gt; 2 Years</td>\n",
       "      <td>Yes</td>\n",
       "    </tr>\n",
       "    <tr>\n",
       "      <th>381108</th>\n",
       "      <td>381109.0</td>\n",
       "      <td>Male</td>\n",
       "      <td>46.0</td>\n",
       "      <td>1.0</td>\n",
       "      <td>29.0</td>\n",
       "      <td>0.0</td>\n",
       "      <td>1-2 Year</td>\n",
       "      <td>No</td>\n",
       "    </tr>\n",
       "  </tbody>\n",
       "</table>\n",
       "<p>381109 rows × 8 columns</p>\n",
       "</div>"
      ],
      "text/plain": [
       "        customer_id  Gender   age  driving licence present  region code  \\\n",
       "0               1.0    Male  44.0                      1.0         28.0   \n",
       "1               2.0    Male  76.0                      1.0          3.0   \n",
       "2               3.0    Male  47.0                      1.0         28.0   \n",
       "3               4.0    Male  21.0                      1.0         11.0   \n",
       "4               5.0  Female  29.0                      1.0         41.0   \n",
       "...             ...     ...   ...                      ...          ...   \n",
       "381104     381105.0    Male  74.0                      1.0         26.0   \n",
       "381105     381106.0    Male  30.0                      1.0         37.0   \n",
       "381106     381107.0    Male  21.0                      1.0         30.0   \n",
       "381107     381108.0  Female  68.0                      1.0         14.0   \n",
       "381108     381109.0    Male  46.0                      1.0         29.0   \n",
       "\n",
       "        previously insured vehicle age vehicle damage  \n",
       "0                      0.0   > 2 Years            Yes  \n",
       "1                      0.0    1-2 Year             No  \n",
       "2                      0.0   > 2 Years            Yes  \n",
       "3                      1.0    < 1 Year             No  \n",
       "4                      1.0    < 1 Year             No  \n",
       "...                    ...         ...            ...  \n",
       "381104                 1.0    1-2 Year             No  \n",
       "381105                 1.0    < 1 Year             No  \n",
       "381106                 1.0    < 1 Year             No  \n",
       "381107                 0.0   > 2 Years            Yes  \n",
       "381108                 0.0    1-2 Year             No  \n",
       "\n",
       "[381109 rows x 8 columns]"
      ]
     },
     "execution_count": 4,
     "metadata": {},
     "output_type": "execute_result"
    }
   ],
   "source": [
    "#Adding column names for customer_details table\n",
    "\n",
    "customer_details.columns = ('customer_id','Gender','age', 'driving licence present','region code', 'previously insured','vehicle age','vehicle damage')\n",
    "customer_details"
   ]
  },
  {
   "cell_type": "markdown",
   "id": "7b0fda32",
   "metadata": {},
   "source": [
    "### ii. Column Names for customer_policy table:"
   ]
  },
  {
   "cell_type": "code",
   "execution_count": 5,
   "id": "f9198ec8",
   "metadata": {},
   "outputs": [
    {
     "data": {
      "text/html": [
       "<div>\n",
       "<style scoped>\n",
       "    .dataframe tbody tr th:only-of-type {\n",
       "        vertical-align: middle;\n",
       "    }\n",
       "\n",
       "    .dataframe tbody tr th {\n",
       "        vertical-align: top;\n",
       "    }\n",
       "\n",
       "    .dataframe thead th {\n",
       "        text-align: right;\n",
       "    }\n",
       "</style>\n",
       "<table border=\"1\" class=\"dataframe\">\n",
       "  <thead>\n",
       "    <tr style=\"text-align: right;\">\n",
       "      <th></th>\n",
       "      <th>customer_id</th>\n",
       "      <th>annual premium (in rs)</th>\n",
       "      <th>sales channel code</th>\n",
       "      <th>vintage</th>\n",
       "      <th>response</th>\n",
       "    </tr>\n",
       "  </thead>\n",
       "  <tbody>\n",
       "    <tr>\n",
       "      <th>0</th>\n",
       "      <td>1.0</td>\n",
       "      <td>40454.0</td>\n",
       "      <td>26.0</td>\n",
       "      <td>217.0</td>\n",
       "      <td>1.0</td>\n",
       "    </tr>\n",
       "    <tr>\n",
       "      <th>1</th>\n",
       "      <td>2.0</td>\n",
       "      <td>33536.0</td>\n",
       "      <td>26.0</td>\n",
       "      <td>183.0</td>\n",
       "      <td>0.0</td>\n",
       "    </tr>\n",
       "    <tr>\n",
       "      <th>2</th>\n",
       "      <td>3.0</td>\n",
       "      <td>38294.0</td>\n",
       "      <td>26.0</td>\n",
       "      <td>27.0</td>\n",
       "      <td>1.0</td>\n",
       "    </tr>\n",
       "    <tr>\n",
       "      <th>3</th>\n",
       "      <td>4.0</td>\n",
       "      <td>28619.0</td>\n",
       "      <td>152.0</td>\n",
       "      <td>203.0</td>\n",
       "      <td>0.0</td>\n",
       "    </tr>\n",
       "    <tr>\n",
       "      <th>4</th>\n",
       "      <td>5.0</td>\n",
       "      <td>27496.0</td>\n",
       "      <td>152.0</td>\n",
       "      <td>39.0</td>\n",
       "      <td>0.0</td>\n",
       "    </tr>\n",
       "    <tr>\n",
       "      <th>...</th>\n",
       "      <td>...</td>\n",
       "      <td>...</td>\n",
       "      <td>...</td>\n",
       "      <td>...</td>\n",
       "      <td>...</td>\n",
       "    </tr>\n",
       "    <tr>\n",
       "      <th>381104</th>\n",
       "      <td>381105.0</td>\n",
       "      <td>30170.0</td>\n",
       "      <td>26.0</td>\n",
       "      <td>88.0</td>\n",
       "      <td>0.0</td>\n",
       "    </tr>\n",
       "    <tr>\n",
       "      <th>381105</th>\n",
       "      <td>381106.0</td>\n",
       "      <td>40016.0</td>\n",
       "      <td>152.0</td>\n",
       "      <td>131.0</td>\n",
       "      <td>0.0</td>\n",
       "    </tr>\n",
       "    <tr>\n",
       "      <th>381106</th>\n",
       "      <td>381107.0</td>\n",
       "      <td>35118.0</td>\n",
       "      <td>160.0</td>\n",
       "      <td>161.0</td>\n",
       "      <td>0.0</td>\n",
       "    </tr>\n",
       "    <tr>\n",
       "      <th>381107</th>\n",
       "      <td>381108.0</td>\n",
       "      <td>44617.0</td>\n",
       "      <td>124.0</td>\n",
       "      <td>74.0</td>\n",
       "      <td>0.0</td>\n",
       "    </tr>\n",
       "    <tr>\n",
       "      <th>381108</th>\n",
       "      <td>381109.0</td>\n",
       "      <td>41777.0</td>\n",
       "      <td>26.0</td>\n",
       "      <td>237.0</td>\n",
       "      <td>0.0</td>\n",
       "    </tr>\n",
       "  </tbody>\n",
       "</table>\n",
       "<p>381109 rows × 5 columns</p>\n",
       "</div>"
      ],
      "text/plain": [
       "        customer_id  annual premium (in rs)  sales channel code  vintage  \\\n",
       "0               1.0                 40454.0                26.0    217.0   \n",
       "1               2.0                 33536.0                26.0    183.0   \n",
       "2               3.0                 38294.0                26.0     27.0   \n",
       "3               4.0                 28619.0               152.0    203.0   \n",
       "4               5.0                 27496.0               152.0     39.0   \n",
       "...             ...                     ...                 ...      ...   \n",
       "381104     381105.0                 30170.0                26.0     88.0   \n",
       "381105     381106.0                 40016.0               152.0    131.0   \n",
       "381106     381107.0                 35118.0               160.0    161.0   \n",
       "381107     381108.0                 44617.0               124.0     74.0   \n",
       "381108     381109.0                 41777.0                26.0    237.0   \n",
       "\n",
       "        response  \n",
       "0            1.0  \n",
       "1            0.0  \n",
       "2            1.0  \n",
       "3            0.0  \n",
       "4            0.0  \n",
       "...          ...  \n",
       "381104       0.0  \n",
       "381105       0.0  \n",
       "381106       0.0  \n",
       "381107       0.0  \n",
       "381108       0.0  \n",
       "\n",
       "[381109 rows x 5 columns]"
      ]
     },
     "execution_count": 5,
     "metadata": {},
     "output_type": "execute_result"
    }
   ],
   "source": [
    "#Adding column names for customer_policy table\n",
    "\n",
    "customer_policy_details.columns = ('customer_id','annual premium (in rs)','sales channel code','vintage','response')\n",
    "customer_policy_details"
   ]
  },
  {
   "cell_type": "markdown",
   "id": "1ca5a06d",
   "metadata": {},
   "source": [
    "## 2. Checking and Cleaning Data Quality"
   ]
  },
  {
   "cell_type": "markdown",
   "id": "1dedd781",
   "metadata": {},
   "source": [
    "### i. Null values"
   ]
  },
  {
   "cell_type": "code",
   "execution_count": 6,
   "id": "8076ee7b",
   "metadata": {},
   "outputs": [
    {
     "data": {
      "text/plain": [
       "customer_id                386\n",
       "Gender                     368\n",
       "age                        368\n",
       "driving licence present    393\n",
       "region code                392\n",
       "previously insured         381\n",
       "vehicle age                381\n",
       "vehicle damage             407\n",
       "dtype: int64"
      ]
     },
     "execution_count": 6,
     "metadata": {},
     "output_type": "execute_result"
    }
   ],
   "source": [
    "#Generate a summary of count of all the null values column wise\n",
    "\n",
    "#for customer_details DataFrame\n",
    "\n",
    "summary_of_null_values_for_customer_details = customer_details.isna().sum()\n",
    "summary_of_null_values_for_customer_details"
   ]
  },
  {
   "cell_type": "code",
   "execution_count": 7,
   "id": "757eb4a4",
   "metadata": {},
   "outputs": [
    {
     "data": {
      "text/plain": [
       "<AxesSubplot:>"
      ]
     },
     "execution_count": 7,
     "metadata": {},
     "output_type": "execute_result"
    },
    {
     "data": {
      "image/png": "[encoded data removed]",
      "text/plain": [
       "<Figure size 432x288 with 1 Axes>"
      ]
     },
     "metadata": {
      "needs_background": "light"
     },
     "output_type": "display_data"
    }
   ],
   "source": [
    "summary_of_null_values_for_customer_details.plot.bar()"
   ]
  },
  {
   "cell_type": "code",
   "execution_count": 8,
   "id": "abb3e74d",
   "metadata": {},
   "outputs": [
    {
     "data": {
      "text/plain": [
       "<AxesSubplot:>"
      ]
     },
     "execution_count": 8,
     "metadata": {},
     "output_type": "execute_result"
    },
    {
     "data": {
      "image/png": "[encoded data removed]",
      "text/plain": [
       "<Figure size 432x288 with 1 Axes>"
      ]
     },
     "metadata": {
      "needs_background": "light"
     },
     "output_type": "display_data"
    }
   ],
   "source": [
    "#for customer_policy_details DataFrame\n",
    "\n",
    "summary_of_null_values_for_customer_policy_details = customer_policy_details.isna().sum()\n",
    "summary_of_null_values_for_customer_policy_details.plot.bar()"
   ]
  },
  {
   "cell_type": "code",
   "execution_count": 9,
   "id": "95f66dfb",
   "metadata": {},
   "outputs": [
    {
     "data": {
      "text/plain": [
       "<AxesSubplot:>"
      ]
     },
     "execution_count": 9,
     "metadata": {},
     "output_type": "execute_result"
    },
    {
     "data": {
      "image/png": "[encoded data removed]",
      "text/plain": [
       "<Figure size 432x288 with 1 Axes>"
      ]
     },
     "metadata": {
      "needs_background": "light"
     },
     "output_type": "display_data"
    }
   ],
   "source": [
    "summary_of_null_values_for_customer_policy_details.plot.bar()"
   ]
  },
  {
   "cell_type": "markdown",
   "id": "950b1f5c",
   "metadata": {},
   "source": [
    "#### Drop Null values for customer_id because central tendencies for id’s is not feasible."
   ]
  },
  {
   "cell_type": "code",
   "execution_count": 10,
   "id": "bef37f90",
   "metadata": {},
   "outputs": [],
   "source": [
    "#in customer_details DataFrame\n",
    "\n",
    "customer_details = customer_details.dropna(subset = ['customer_id'])"
   ]
  },
  {
   "cell_type": "code",
   "execution_count": 11,
   "id": "a9891571",
   "metadata": {},
   "outputs": [],
   "source": [
    "#in customer_policy_details DataFrame\n",
    "\n",
    "customer_policy_details = customer_policy_details.dropna(subset = ['customer_id'])"
   ]
  },
  {
   "cell_type": "markdown",
   "id": "17f09f13",
   "metadata": {},
   "source": [
    "#### Replace all null values for numeric columns by mean."
   ]
  },
  {
   "cell_type": "code",
   "execution_count": 12,
   "id": "d57f2dc5",
   "metadata": {},
   "outputs": [],
   "source": [
    "#For customer_details DataFrame\n",
    "\n",
    "customer_details = customer_details.fillna(customer_details.mean(numeric_only = True))"
   ]
  },
  {
   "cell_type": "code",
   "execution_count": 13,
   "id": "45fc70f4",
   "metadata": {},
   "outputs": [],
   "source": [
    "#For customer_policy_details\n",
    "\n",
    "customer_policy_details = customer_policy_details.fillna(customer_policy_details.mean(numeric_only = True))"
   ]
  },
  {
   "cell_type": "markdown",
   "id": "e44ffb6c",
   "metadata": {},
   "source": [
    "####  Replace all null values for Categorical value by mode."
   ]
  },
  {
   "cell_type": "code",
   "execution_count": 14,
   "id": "0d148dfe",
   "metadata": {},
   "outputs": [],
   "source": [
    "#In customer_details DataFrame\n",
    "\n",
    "customer_details['Gender'] = customer_details['Gender'].fillna(customer_details.Gender.value_counts().index[0])\n",
    "customer_details['vehicle age'] = customer_details['vehicle age'].fillna(customer_details['vehicle age'].value_counts().index[0])\n",
    "customer_details['vehicle damage'] = customer_details['vehicle damage'].fillna(customer_details['vehicle damage'].value_counts().index[0])"
   ]
  },
  {
   "cell_type": "code",
   "execution_count": 15,
   "id": "5ec3d55f",
   "metadata": {},
   "outputs": [
    {
     "data": {
      "text/plain": [
       "customer_id                0\n",
       "Gender                     0\n",
       "age                        0\n",
       "driving licence present    0\n",
       "region code                0\n",
       "previously insured         0\n",
       "vehicle age                0\n",
       "vehicle damage             0\n",
       "dtype: int64"
      ]
     },
     "execution_count": 15,
     "metadata": {},
     "output_type": "execute_result"
    }
   ],
   "source": [
    "#check if any null values present in customer_details DataFrame\n",
    "\n",
    "customer_details.isna().sum()"
   ]
  },
  {
   "cell_type": "code",
   "execution_count": 16,
   "id": "0b8b68d9",
   "metadata": {},
   "outputs": [
    {
     "data": {
      "text/plain": [
       "<AxesSubplot:>"
      ]
     },
     "execution_count": 16,
     "metadata": {},
     "output_type": "execute_result"
    },
    {
     "data": {
      "image/png": "[encoded data removed]",
      "text/plain": [
       "<Figure size 432x288 with 1 Axes>"
      ]
     },
     "metadata": {
      "needs_background": "light"
     },
     "output_type": "display_data"
    }
   ],
   "source": [
    "customer_details.isna().sum().plot.bar()"
   ]
  },
  {
   "cell_type": "code",
   "execution_count": 17,
   "id": "5fa3d904",
   "metadata": {},
   "outputs": [
    {
     "data": {
      "text/plain": [
       "customer_id               0\n",
       "annual premium (in rs)    0\n",
       "sales channel code        0\n",
       "vintage                   0\n",
       "response                  0\n",
       "dtype: int64"
      ]
     },
     "execution_count": 17,
     "metadata": {},
     "output_type": "execute_result"
    }
   ],
   "source": [
    "#check if any null values present in customer_policy_details DataFrame\n",
    "\n",
    "customer_policy_details.isna().sum()"
   ]
  },
  {
   "cell_type": "code",
   "execution_count": 18,
   "id": "76429b06",
   "metadata": {},
   "outputs": [
    {
     "data": {
      "text/plain": [
       "<AxesSubplot:>"
      ]
     },
     "execution_count": 18,
     "metadata": {},
     "output_type": "execute_result"
    },
    {
     "data": {
      "image/png": "[encoded data removed]",
      "text/plain": [
       "<Figure size 432x288 with 1 Axes>"
      ]
     },
     "metadata": {
      "needs_background": "light"
     },
     "output_type": "display_data"
    }
   ],
   "source": [
    "customer_policy_details.isna().sum().plot.bar()"
   ]
  },
  {
   "cell_type": "markdown",
   "id": "a3a091de",
   "metadata": {},
   "source": [
    "### ii. Outliers"
   ]
  },
  {
   "cell_type": "markdown",
   "id": "e56c251a",
   "metadata": {},
   "source": [
    "#### Generate a summary of count of all the outliers column wise"
   ]
  },
  {
   "cell_type": "code",
   "execution_count": 19,
   "id": "aa84472d",
   "metadata": {},
   "outputs": [
    {
     "data": {
      "text/html": [
       "<div>\n",
       "<style scoped>\n",
       "    .dataframe tbody tr th:only-of-type {\n",
       "        vertical-align: middle;\n",
       "    }\n",
       "\n",
       "    .dataframe tbody tr th {\n",
       "        vertical-align: top;\n",
       "    }\n",
       "\n",
       "    .dataframe thead th {\n",
       "        text-align: right;\n",
       "    }\n",
       "</style>\n",
       "<table border=\"1\" class=\"dataframe\">\n",
       "  <thead>\n",
       "    <tr style=\"text-align: right;\">\n",
       "      <th></th>\n",
       "      <th>customer_id</th>\n",
       "      <th>age</th>\n",
       "      <th>driving licence present</th>\n",
       "      <th>region code</th>\n",
       "      <th>previously insured</th>\n",
       "    </tr>\n",
       "  </thead>\n",
       "  <tbody>\n",
       "    <tr>\n",
       "      <th>count</th>\n",
       "      <td>380723.000000</td>\n",
       "      <td>380723.000000</td>\n",
       "      <td>380723.000000</td>\n",
       "      <td>380723.000000</td>\n",
       "      <td>380723.000000</td>\n",
       "    </tr>\n",
       "    <tr>\n",
       "      <th>mean</th>\n",
       "      <td>190548.776244</td>\n",
       "      <td>38.822788</td>\n",
       "      <td>0.997868</td>\n",
       "      <td>26.389436</td>\n",
       "      <td>0.458259</td>\n",
       "    </tr>\n",
       "    <tr>\n",
       "      <th>std</th>\n",
       "      <td>110016.805160</td>\n",
       "      <td>15.504826</td>\n",
       "      <td>0.046104</td>\n",
       "      <td>13.223671</td>\n",
       "      <td>0.498006</td>\n",
       "    </tr>\n",
       "    <tr>\n",
       "      <th>min</th>\n",
       "      <td>1.000000</td>\n",
       "      <td>20.000000</td>\n",
       "      <td>0.000000</td>\n",
       "      <td>0.000000</td>\n",
       "      <td>0.000000</td>\n",
       "    </tr>\n",
       "    <tr>\n",
       "      <th>25%</th>\n",
       "      <td>95269.500000</td>\n",
       "      <td>25.000000</td>\n",
       "      <td>1.000000</td>\n",
       "      <td>15.000000</td>\n",
       "      <td>0.000000</td>\n",
       "    </tr>\n",
       "    <tr>\n",
       "      <th>50%</th>\n",
       "      <td>190543.000000</td>\n",
       "      <td>36.000000</td>\n",
       "      <td>1.000000</td>\n",
       "      <td>28.000000</td>\n",
       "      <td>0.000000</td>\n",
       "    </tr>\n",
       "    <tr>\n",
       "      <th>75%</th>\n",
       "      <td>285822.500000</td>\n",
       "      <td>49.000000</td>\n",
       "      <td>1.000000</td>\n",
       "      <td>35.000000</td>\n",
       "      <td>1.000000</td>\n",
       "    </tr>\n",
       "    <tr>\n",
       "      <th>max</th>\n",
       "      <td>381109.000000</td>\n",
       "      <td>85.000000</td>\n",
       "      <td>1.000000</td>\n",
       "      <td>52.000000</td>\n",
       "      <td>1.000000</td>\n",
       "    </tr>\n",
       "  </tbody>\n",
       "</table>\n",
       "</div>"
      ],
      "text/plain": [
       "         customer_id            age  driving licence present    region code  \\\n",
       "count  380723.000000  380723.000000            380723.000000  380723.000000   \n",
       "mean   190548.776244      38.822788                 0.997868      26.389436   \n",
       "std    110016.805160      15.504826                 0.046104      13.223671   \n",
       "min         1.000000      20.000000                 0.000000       0.000000   \n",
       "25%     95269.500000      25.000000                 1.000000      15.000000   \n",
       "50%    190543.000000      36.000000                 1.000000      28.000000   \n",
       "75%    285822.500000      49.000000                 1.000000      35.000000   \n",
       "max    381109.000000      85.000000                 1.000000      52.000000   \n",
       "\n",
       "       previously insured  \n",
       "count       380723.000000  \n",
       "mean             0.458259  \n",
       "std              0.498006  \n",
       "min              0.000000  \n",
       "25%              0.000000  \n",
       "50%              0.000000  \n",
       "75%              1.000000  \n",
       "max              1.000000  "
      ]
     },
     "execution_count": 19,
     "metadata": {},
     "output_type": "execute_result"
    }
   ],
   "source": [
    "customer_details.describe()"
   ]
  },
  {
   "cell_type": "code",
   "execution_count": 20,
   "id": "b544ca3c",
   "metadata": {},
   "outputs": [],
   "source": [
    "def find_outliers_IQR(df):\n",
    "    \n",
    "    \"\"\"This Method Finds the Outliers present in a DataFrame\"\"\"\n",
    "\n",
    "    q1=df.quantile(0.25)\n",
    "\n",
    "    q3=df.quantile(0.75)\n",
    "\n",
    "    IQR=q3-q1\n",
    "\n",
    "    outliers = df[((df<(q1-1.5*IQR)) | (df>(q3+1.5*IQR)))]\n",
    "\n",
    "    return outliers"
   ]
  },
  {
   "cell_type": "code",
   "execution_count": 21,
   "id": "8ae3b17c",
   "metadata": {},
   "outputs": [],
   "source": [
    "#find outliers for coulmns in customer_details DataFrame\n",
    "outliers = find_outliers_IQR(customer_details['customer_id'])\n",
    "a = outliers.value_counts().sum()\n",
    "outliers1 = find_outliers_IQR(customer_details['age'])\n",
    "b = outliers1.value_counts().sum()\n",
    "outliers2 = find_outliers_IQR(customer_details['driving licence present'])\n",
    "c = outliers2.value_counts().sum()\n",
    "outliers3 = find_outliers_IQR(customer_details['region code'])\n",
    "d = outliers3.value_counts().sum()\n",
    "outliers4 = find_outliers_IQR(customer_details['previously insured'])\n",
    "e = outliers4.value_counts().sum()"
   ]
  },
  {
   "cell_type": "code",
   "execution_count": 22,
   "id": "994d11bd",
   "metadata": {},
   "outputs": [],
   "source": [
    "#creating a DataFrame to display the summary of count of outliers column wise\n",
    "outliers_in_customer_details = pd.DataFrame([a,b,c,d,e],['customer_id','age','driving licence present','region code','previously insured'],columns = ['num of outliers'])"
   ]
  },
  {
   "cell_type": "code",
   "execution_count": 23,
   "id": "8ca094e8",
   "metadata": {},
   "outputs": [
    {
     "data": {
      "text/html": [
       "<div>\n",
       "<style scoped>\n",
       "    .dataframe tbody tr th:only-of-type {\n",
       "        vertical-align: middle;\n",
       "    }\n",
       "\n",
       "    .dataframe tbody tr th {\n",
       "        vertical-align: top;\n",
       "    }\n",
       "\n",
       "    .dataframe thead th {\n",
       "        text-align: right;\n",
       "    }\n",
       "</style>\n",
       "<table border=\"1\" class=\"dataframe\">\n",
       "  <thead>\n",
       "    <tr style=\"text-align: right;\">\n",
       "      <th></th>\n",
       "      <th>num of outliers</th>\n",
       "    </tr>\n",
       "  </thead>\n",
       "  <tbody>\n",
       "    <tr>\n",
       "      <th>customer_id</th>\n",
       "      <td>0</td>\n",
       "    </tr>\n",
       "    <tr>\n",
       "      <th>age</th>\n",
       "      <td>0</td>\n",
       "    </tr>\n",
       "    <tr>\n",
       "      <th>driving licence present</th>\n",
       "      <td>1203</td>\n",
       "    </tr>\n",
       "    <tr>\n",
       "      <th>region code</th>\n",
       "      <td>0</td>\n",
       "    </tr>\n",
       "    <tr>\n",
       "      <th>previously insured</th>\n",
       "      <td>0</td>\n",
       "    </tr>\n",
       "  </tbody>\n",
       "</table>\n",
       "</div>"
      ],
      "text/plain": [
       "                         num of outliers\n",
       "customer_id                            0\n",
       "age                                    0\n",
       "driving licence present             1203\n",
       "region code                            0\n",
       "previously insured                     0"
      ]
     },
     "execution_count": 23,
     "metadata": {},
     "output_type": "execute_result"
    }
   ],
   "source": [
    "outliers_in_customer_details"
   ]
  },
  {
   "cell_type": "code",
   "execution_count": 24,
   "id": "51e4a526",
   "metadata": {},
   "outputs": [
    {
     "data": {
      "text/plain": [
       "<AxesSubplot:>"
      ]
     },
     "execution_count": 24,
     "metadata": {},
     "output_type": "execute_result"
    },
    {
     "data": {
      "image/png": "[encoded data removed]",
      "text/plain": [
       "<Figure size 432x288 with 1 Axes>"
      ]
     },
     "metadata": {
      "needs_background": "light"
     },
     "output_type": "display_data"
    }
   ],
   "source": [
    "outliers_in_customer_details.plot.bar()"
   ]
  },
  {
   "cell_type": "code",
   "execution_count": 25,
   "id": "afa5657c",
   "metadata": {},
   "outputs": [],
   "source": [
    "#find outliers for coulmns in customer_policy_details DataFrame\n",
    "outliers = find_outliers_IQR(customer_policy_details['customer_id'])\n",
    "a = outliers.value_counts().sum()\n",
    "outliers1 = find_outliers_IQR(customer_policy_details['annual premium (in rs)'])\n",
    "b = outliers1.value_counts().sum()\n",
    "outliers2 = find_outliers_IQR(customer_policy_details['sales channel code'])\n",
    "c = outliers2.value_counts().sum()\n",
    "outliers3 = find_outliers_IQR(customer_policy_details['vintage'])\n",
    "d = outliers3.value_counts().sum()\n",
    "outliers4 = find_outliers_IQR(customer_policy_details['response'])\n",
    "e = outliers4.value_counts().sum()"
   ]
  },
  {
   "cell_type": "code",
   "execution_count": 26,
   "id": "f5f77f0b",
   "metadata": {},
   "outputs": [],
   "source": [
    "#creating a DataFrame to display the summary of count of outliers column wise\n",
    "outliers_in_customer_policy_details = pd.DataFrame([a,b,c,d,e],['customer_id','annual premium (in rs)','sales channel code','vintage','response'],columns = ['num of outliers'])"
   ]
  },
  {
   "cell_type": "code",
   "execution_count": 27,
   "id": "fa0ec023",
   "metadata": {},
   "outputs": [
    {
     "data": {
      "text/html": [
       "<div>\n",
       "<style scoped>\n",
       "    .dataframe tbody tr th:only-of-type {\n",
       "        vertical-align: middle;\n",
       "    }\n",
       "\n",
       "    .dataframe tbody tr th {\n",
       "        vertical-align: top;\n",
       "    }\n",
       "\n",
       "    .dataframe thead th {\n",
       "        text-align: right;\n",
       "    }\n",
       "</style>\n",
       "<table border=\"1\" class=\"dataframe\">\n",
       "  <thead>\n",
       "    <tr style=\"text-align: right;\">\n",
       "      <th></th>\n",
       "      <th>num of outliers</th>\n",
       "    </tr>\n",
       "  </thead>\n",
       "  <tbody>\n",
       "    <tr>\n",
       "      <th>customer_id</th>\n",
       "      <td>0</td>\n",
       "    </tr>\n",
       "    <tr>\n",
       "      <th>annual premium (in rs)</th>\n",
       "      <td>10332</td>\n",
       "    </tr>\n",
       "    <tr>\n",
       "      <th>sales channel code</th>\n",
       "      <td>0</td>\n",
       "    </tr>\n",
       "    <tr>\n",
       "      <th>vintage</th>\n",
       "      <td>0</td>\n",
       "    </tr>\n",
       "    <tr>\n",
       "      <th>response</th>\n",
       "      <td>46965</td>\n",
       "    </tr>\n",
       "  </tbody>\n",
       "</table>\n",
       "</div>"
      ],
      "text/plain": [
       "                        num of outliers\n",
       "customer_id                           0\n",
       "annual premium (in rs)            10332\n",
       "sales channel code                    0\n",
       "vintage                               0\n",
       "response                          46965"
      ]
     },
     "execution_count": 27,
     "metadata": {},
     "output_type": "execute_result"
    }
   ],
   "source": [
    "outliers_in_customer_policy_details"
   ]
  },
  {
   "cell_type": "code",
   "execution_count": 28,
   "id": "be400306",
   "metadata": {},
   "outputs": [
    {
     "data": {
      "text/plain": [
       "<AxesSubplot:>"
      ]
     },
     "execution_count": 28,
     "metadata": {},
     "output_type": "execute_result"
    },
    {
     "data": {
      "image/png": "[encoded data removed]",
      "text/plain": [
       "<Figure size 432x288 with 1 Axes>"
      ]
     },
     "metadata": {
      "needs_background": "light"
     },
     "output_type": "display_data"
    }
   ],
   "source": [
    "outliers_in_customer_policy_details.plot.bar()"
   ]
  },
  {
   "cell_type": "markdown",
   "id": "9f82a892",
   "metadata": {},
   "source": [
    "#### Replace all outlier values for numeric columns by mean\n",
    "\n",
    "#### note : it is advised not to use the mean value as it is highly susceptible to outliers"
   ]
  },
  {
   "cell_type": "code",
   "execution_count": 29,
   "id": "a06ae8a2",
   "metadata": {},
   "outputs": [],
   "source": [
    "def replace_outliers(df):\n",
    "    \n",
    "    \"\"\"This Method replaces the Outliers with the mean in a DataFrame\"\"\"\n",
    "    \n",
    "    q1=df.quantile(0.25)\n",
    "\n",
    "    q3=df.quantile(0.75)\n",
    "\n",
    "    IQR=q3-q1\n",
    "\n",
    "    \n",
    "    upper = df[~(df>(q3+1.5*IQR))].max()\n",
    "    \n",
    "    lower = df[~(df<(q1-1.5*IQR))].min()\n",
    "\n",
    "    df = np.where(df > upper, df.mean(),np.where(df < lower,df.mean(),df))\n",
    "\n",
    "    return df"
   ]
  },
  {
   "cell_type": "code",
   "execution_count": 30,
   "id": "a75c283d",
   "metadata": {},
   "outputs": [
    {
     "data": {
      "text/plain": [
       "array([1., 1., 1., ..., 1., 1., 1.])"
      ]
     },
     "execution_count": 30,
     "metadata": {},
     "output_type": "execute_result"
    }
   ],
   "source": [
    "#replacing outliers value with the mean value for customer_details DataFrame\n",
    "\n",
    "#outliers value found only in 'driving licence present' column.\n",
    "\n",
    "replace_outliers(customer_details['driving licence present'])"
   ]
  },
  {
   "cell_type": "code",
   "execution_count": 31,
   "id": "09e966d8",
   "metadata": {},
   "outputs": [
    {
     "data": {
      "text/plain": [
       "array([0.12252571, 0.        , 0.12252571, ..., 0.        , 0.        ,\n",
       "       0.        ])"
      ]
     },
     "execution_count": 31,
     "metadata": {},
     "output_type": "execute_result"
    }
   ],
   "source": [
    "#replacing outliers value with the mean value for customer_policy_details DataFrame\n",
    "\n",
    "#outliers found in 'annual premium (in rs)' and 'response' column\n",
    "\n",
    "replace_outliers(customer_policy_details['annual premium (in rs)'])\n",
    "replace_outliers(customer_policy_details['response'])"
   ]
  },
  {
   "cell_type": "code",
   "execution_count": 32,
   "id": "712b6951",
   "metadata": {},
   "outputs": [
    {
     "data": {
      "text/html": [
       "<div>\n",
       "<style scoped>\n",
       "    .dataframe tbody tr th:only-of-type {\n",
       "        vertical-align: middle;\n",
       "    }\n",
       "\n",
       "    .dataframe tbody tr th {\n",
       "        vertical-align: top;\n",
       "    }\n",
       "\n",
       "    .dataframe thead th {\n",
       "        text-align: right;\n",
       "    }\n",
       "</style>\n",
       "<table border=\"1\" class=\"dataframe\">\n",
       "  <thead>\n",
       "    <tr style=\"text-align: right;\">\n",
       "      <th></th>\n",
       "      <th>customer_id</th>\n",
       "      <th>age</th>\n",
       "      <th>driving licence present</th>\n",
       "      <th>region code</th>\n",
       "      <th>previously insured</th>\n",
       "    </tr>\n",
       "  </thead>\n",
       "  <tbody>\n",
       "    <tr>\n",
       "      <th>count</th>\n",
       "      <td>380723.000000</td>\n",
       "      <td>380723.000000</td>\n",
       "      <td>380723.000000</td>\n",
       "      <td>380723.000000</td>\n",
       "      <td>380723.000000</td>\n",
       "    </tr>\n",
       "    <tr>\n",
       "      <th>mean</th>\n",
       "      <td>190548.776244</td>\n",
       "      <td>38.822788</td>\n",
       "      <td>0.997868</td>\n",
       "      <td>26.389436</td>\n",
       "      <td>0.458259</td>\n",
       "    </tr>\n",
       "    <tr>\n",
       "      <th>std</th>\n",
       "      <td>110016.805160</td>\n",
       "      <td>15.504826</td>\n",
       "      <td>0.046104</td>\n",
       "      <td>13.223671</td>\n",
       "      <td>0.498006</td>\n",
       "    </tr>\n",
       "    <tr>\n",
       "      <th>min</th>\n",
       "      <td>1.000000</td>\n",
       "      <td>20.000000</td>\n",
       "      <td>0.000000</td>\n",
       "      <td>0.000000</td>\n",
       "      <td>0.000000</td>\n",
       "    </tr>\n",
       "    <tr>\n",
       "      <th>25%</th>\n",
       "      <td>95269.500000</td>\n",
       "      <td>25.000000</td>\n",
       "      <td>1.000000</td>\n",
       "      <td>15.000000</td>\n",
       "      <td>0.000000</td>\n",
       "    </tr>\n",
       "    <tr>\n",
       "      <th>50%</th>\n",
       "      <td>190543.000000</td>\n",
       "      <td>36.000000</td>\n",
       "      <td>1.000000</td>\n",
       "      <td>28.000000</td>\n",
       "      <td>0.000000</td>\n",
       "    </tr>\n",
       "    <tr>\n",
       "      <th>75%</th>\n",
       "      <td>285822.500000</td>\n",
       "      <td>49.000000</td>\n",
       "      <td>1.000000</td>\n",
       "      <td>35.000000</td>\n",
       "      <td>1.000000</td>\n",
       "    </tr>\n",
       "    <tr>\n",
       "      <th>max</th>\n",
       "      <td>381109.000000</td>\n",
       "      <td>85.000000</td>\n",
       "      <td>1.000000</td>\n",
       "      <td>52.000000</td>\n",
       "      <td>1.000000</td>\n",
       "    </tr>\n",
       "  </tbody>\n",
       "</table>\n",
       "</div>"
      ],
      "text/plain": [
       "         customer_id            age  driving licence present    region code  \\\n",
       "count  380723.000000  380723.000000            380723.000000  380723.000000   \n",
       "mean   190548.776244      38.822788                 0.997868      26.389436   \n",
       "std    110016.805160      15.504826                 0.046104      13.223671   \n",
       "min         1.000000      20.000000                 0.000000       0.000000   \n",
       "25%     95269.500000      25.000000                 1.000000      15.000000   \n",
       "50%    190543.000000      36.000000                 1.000000      28.000000   \n",
       "75%    285822.500000      49.000000                 1.000000      35.000000   \n",
       "max    381109.000000      85.000000                 1.000000      52.000000   \n",
       "\n",
       "       previously insured  \n",
       "count       380723.000000  \n",
       "mean             0.458259  \n",
       "std              0.498006  \n",
       "min              0.000000  \n",
       "25%              0.000000  \n",
       "50%              0.000000  \n",
       "75%              1.000000  \n",
       "max              1.000000  "
      ]
     },
     "execution_count": 32,
     "metadata": {},
     "output_type": "execute_result"
    }
   ],
   "source": [
    "customer_details.describe()"
   ]
  },
  {
   "cell_type": "code",
   "execution_count": 33,
   "id": "e0a17505",
   "metadata": {},
   "outputs": [
    {
     "data": {
      "text/html": [
       "<div>\n",
       "<style scoped>\n",
       "    .dataframe tbody tr th:only-of-type {\n",
       "        vertical-align: middle;\n",
       "    }\n",
       "\n",
       "    .dataframe tbody tr th {\n",
       "        vertical-align: top;\n",
       "    }\n",
       "\n",
       "    .dataframe thead th {\n",
       "        text-align: right;\n",
       "    }\n",
       "</style>\n",
       "<table border=\"1\" class=\"dataframe\">\n",
       "  <thead>\n",
       "    <tr style=\"text-align: right;\">\n",
       "      <th></th>\n",
       "      <th>customer_id</th>\n",
       "      <th>annual premium (in rs)</th>\n",
       "      <th>sales channel code</th>\n",
       "      <th>vintage</th>\n",
       "      <th>response</th>\n",
       "    </tr>\n",
       "  </thead>\n",
       "  <tbody>\n",
       "    <tr>\n",
       "      <th>count</th>\n",
       "      <td>380722.000000</td>\n",
       "      <td>380722.000000</td>\n",
       "      <td>380722.000000</td>\n",
       "      <td>380722.000000</td>\n",
       "      <td>380722.000000</td>\n",
       "    </tr>\n",
       "    <tr>\n",
       "      <th>mean</th>\n",
       "      <td>190547.491663</td>\n",
       "      <td>30563.999774</td>\n",
       "      <td>112.036687</td>\n",
       "      <td>154.347192</td>\n",
       "      <td>0.122526</td>\n",
       "    </tr>\n",
       "    <tr>\n",
       "      <th>std</th>\n",
       "      <td>110013.824148</td>\n",
       "      <td>17190.147550</td>\n",
       "      <td>54.177046</td>\n",
       "      <td>83.628096</td>\n",
       "      <td>0.327737</td>\n",
       "    </tr>\n",
       "    <tr>\n",
       "      <th>min</th>\n",
       "      <td>1.000000</td>\n",
       "      <td>2630.000000</td>\n",
       "      <td>1.000000</td>\n",
       "      <td>10.000000</td>\n",
       "      <td>0.000000</td>\n",
       "    </tr>\n",
       "    <tr>\n",
       "      <th>25%</th>\n",
       "      <td>95276.250000</td>\n",
       "      <td>24416.000000</td>\n",
       "      <td>29.000000</td>\n",
       "      <td>82.000000</td>\n",
       "      <td>0.000000</td>\n",
       "    </tr>\n",
       "    <tr>\n",
       "      <th>50%</th>\n",
       "      <td>190536.500000</td>\n",
       "      <td>31656.000000</td>\n",
       "      <td>131.000000</td>\n",
       "      <td>154.000000</td>\n",
       "      <td>0.000000</td>\n",
       "    </tr>\n",
       "    <tr>\n",
       "      <th>75%</th>\n",
       "      <td>285818.750000</td>\n",
       "      <td>39391.750000</td>\n",
       "      <td>152.000000</td>\n",
       "      <td>227.000000</td>\n",
       "      <td>0.000000</td>\n",
       "    </tr>\n",
       "    <tr>\n",
       "      <th>max</th>\n",
       "      <td>381109.000000</td>\n",
       "      <td>540165.000000</td>\n",
       "      <td>163.000000</td>\n",
       "      <td>299.000000</td>\n",
       "      <td>1.000000</td>\n",
       "    </tr>\n",
       "  </tbody>\n",
       "</table>\n",
       "</div>"
      ],
      "text/plain": [
       "         customer_id  annual premium (in rs)  sales channel code  \\\n",
       "count  380722.000000           380722.000000       380722.000000   \n",
       "mean   190547.491663            30563.999774          112.036687   \n",
       "std    110013.824148            17190.147550           54.177046   \n",
       "min         1.000000             2630.000000            1.000000   \n",
       "25%     95276.250000            24416.000000           29.000000   \n",
       "50%    190536.500000            31656.000000          131.000000   \n",
       "75%    285818.750000            39391.750000          152.000000   \n",
       "max    381109.000000           540165.000000          163.000000   \n",
       "\n",
       "             vintage       response  \n",
       "count  380722.000000  380722.000000  \n",
       "mean      154.347192       0.122526  \n",
       "std        83.628096       0.327737  \n",
       "min        10.000000       0.000000  \n",
       "25%        82.000000       0.000000  \n",
       "50%       154.000000       0.000000  \n",
       "75%       227.000000       0.000000  \n",
       "max       299.000000       1.000000  "
      ]
     },
     "execution_count": 33,
     "metadata": {},
     "output_type": "execute_result"
    }
   ],
   "source": [
    "customer_policy_details.describe()"
   ]
  },
  {
   "cell_type": "markdown",
   "id": "b2491b7d",
   "metadata": {},
   "source": [
    "### iii. White spaces"
   ]
  },
  {
   "cell_type": "markdown",
   "id": "5d4b2fe7",
   "metadata": {},
   "source": [
    "#### Remove whitespaces"
   ]
  },
  {
   "cell_type": "code",
   "execution_count": 34,
   "id": "be9dc68f",
   "metadata": {},
   "outputs": [],
   "source": [
    "#Remove whitespaces\n",
    "customer_details['Gender'] = customer_details['Gender'].str.strip()"
   ]
  },
  {
   "cell_type": "markdown",
   "id": "64c7b905",
   "metadata": {},
   "source": [
    "###  iv. case correction(lower or upper, any one) "
   ]
  },
  {
   "cell_type": "code",
   "execution_count": 35,
   "id": "803ab22e",
   "metadata": {},
   "outputs": [
    {
     "data": {
      "text/plain": [
       "0           MALE\n",
       "1           MALE\n",
       "2           MALE\n",
       "3           MALE\n",
       "4         FEMALE\n",
       "           ...  \n",
       "381104      MALE\n",
       "381105      MALE\n",
       "381106      MALE\n",
       "381107    FEMALE\n",
       "381108      MALE\n",
       "Name: Gender, Length: 380723, dtype: object"
      ]
     },
     "execution_count": 35,
     "metadata": {},
     "output_type": "execute_result"
    }
   ],
   "source": [
    "#Case correction to Upper case\n",
    "customer_details['Gender'] = customer_details['Gender'].str.upper()\n",
    "customer_details['Gender']"
   ]
  },
  {
   "cell_type": "markdown",
   "id": "2360c770",
   "metadata": {},
   "source": [
    "### v. Convert nominal data (categorical) into dummies "
   ]
  },
  {
   "cell_type": "markdown",
   "id": "a19820ce",
   "metadata": {},
   "source": [
    "#### Get dummies"
   ]
  },
  {
   "cell_type": "code",
   "execution_count": 50,
   "id": "37d9fb0f",
   "metadata": {},
   "outputs": [
    {
     "data": {
      "text/html": [
       "<div>\n",
       "<style scoped>\n",
       "    .dataframe tbody tr th:only-of-type {\n",
       "        vertical-align: middle;\n",
       "    }\n",
       "\n",
       "    .dataframe tbody tr th {\n",
       "        vertical-align: top;\n",
       "    }\n",
       "\n",
       "    .dataframe thead th {\n",
       "        text-align: right;\n",
       "    }\n",
       "</style>\n",
       "<table border=\"1\" class=\"dataframe\">\n",
       "  <thead>\n",
       "    <tr style=\"text-align: right;\">\n",
       "      <th></th>\n",
       "      <th>FEMALE</th>\n",
       "      <th>MALE</th>\n",
       "    </tr>\n",
       "  </thead>\n",
       "  <tbody>\n",
       "    <tr>\n",
       "      <th>0</th>\n",
       "      <td>0</td>\n",
       "      <td>1</td>\n",
       "    </tr>\n",
       "    <tr>\n",
       "      <th>1</th>\n",
       "      <td>0</td>\n",
       "      <td>1</td>\n",
       "    </tr>\n",
       "    <tr>\n",
       "      <th>2</th>\n",
       "      <td>0</td>\n",
       "      <td>1</td>\n",
       "    </tr>\n",
       "    <tr>\n",
       "      <th>3</th>\n",
       "      <td>0</td>\n",
       "      <td>1</td>\n",
       "    </tr>\n",
       "    <tr>\n",
       "      <th>4</th>\n",
       "      <td>1</td>\n",
       "      <td>0</td>\n",
       "    </tr>\n",
       "    <tr>\n",
       "      <th>...</th>\n",
       "      <td>...</td>\n",
       "      <td>...</td>\n",
       "    </tr>\n",
       "    <tr>\n",
       "      <th>381104</th>\n",
       "      <td>0</td>\n",
       "      <td>1</td>\n",
       "    </tr>\n",
       "    <tr>\n",
       "      <th>381105</th>\n",
       "      <td>0</td>\n",
       "      <td>1</td>\n",
       "    </tr>\n",
       "    <tr>\n",
       "      <th>381106</th>\n",
       "      <td>0</td>\n",
       "      <td>1</td>\n",
       "    </tr>\n",
       "    <tr>\n",
       "      <th>381107</th>\n",
       "      <td>1</td>\n",
       "      <td>0</td>\n",
       "    </tr>\n",
       "    <tr>\n",
       "      <th>381108</th>\n",
       "      <td>0</td>\n",
       "      <td>1</td>\n",
       "    </tr>\n",
       "  </tbody>\n",
       "</table>\n",
       "<p>380723 rows × 2 columns</p>\n",
       "</div>"
      ],
      "text/plain": [
       "        FEMALE  MALE\n",
       "0            0     1\n",
       "1            0     1\n",
       "2            0     1\n",
       "3            0     1\n",
       "4            1     0\n",
       "...        ...   ...\n",
       "381104       0     1\n",
       "381105       0     1\n",
       "381106       0     1\n",
       "381107       1     0\n",
       "381108       0     1\n",
       "\n",
       "[380723 rows x 2 columns]"
      ]
     },
     "execution_count": 50,
     "metadata": {},
     "output_type": "execute_result"
    }
   ],
   "source": [
    "#for 'Gender' column\n",
    "Gender_dummy =pd.get_dummies(customer_details['Gender'])\n",
    "Gender_dummy"
   ]
  },
  {
   "cell_type": "code",
   "execution_count": 51,
   "id": "22198a8f",
   "metadata": {},
   "outputs": [
    {
     "data": {
      "text/html": [
       "<div>\n",
       "<style scoped>\n",
       "    .dataframe tbody tr th:only-of-type {\n",
       "        vertical-align: middle;\n",
       "    }\n",
       "\n",
       "    .dataframe tbody tr th {\n",
       "        vertical-align: top;\n",
       "    }\n",
       "\n",
       "    .dataframe thead th {\n",
       "        text-align: right;\n",
       "    }\n",
       "</style>\n",
       "<table border=\"1\" class=\"dataframe\">\n",
       "  <thead>\n",
       "    <tr style=\"text-align: right;\">\n",
       "      <th></th>\n",
       "      <th>1-2 Year</th>\n",
       "      <th>&lt; 1 Year</th>\n",
       "      <th>&gt; 2 Years</th>\n",
       "    </tr>\n",
       "  </thead>\n",
       "  <tbody>\n",
       "    <tr>\n",
       "      <th>0</th>\n",
       "      <td>0</td>\n",
       "      <td>0</td>\n",
       "      <td>1</td>\n",
       "    </tr>\n",
       "    <tr>\n",
       "      <th>1</th>\n",
       "      <td>1</td>\n",
       "      <td>0</td>\n",
       "      <td>0</td>\n",
       "    </tr>\n",
       "    <tr>\n",
       "      <th>2</th>\n",
       "      <td>0</td>\n",
       "      <td>0</td>\n",
       "      <td>1</td>\n",
       "    </tr>\n",
       "    <tr>\n",
       "      <th>3</th>\n",
       "      <td>0</td>\n",
       "      <td>1</td>\n",
       "      <td>0</td>\n",
       "    </tr>\n",
       "    <tr>\n",
       "      <th>4</th>\n",
       "      <td>0</td>\n",
       "      <td>1</td>\n",
       "      <td>0</td>\n",
       "    </tr>\n",
       "    <tr>\n",
       "      <th>...</th>\n",
       "      <td>...</td>\n",
       "      <td>...</td>\n",
       "      <td>...</td>\n",
       "    </tr>\n",
       "    <tr>\n",
       "      <th>381104</th>\n",
       "      <td>1</td>\n",
       "      <td>0</td>\n",
       "      <td>0</td>\n",
       "    </tr>\n",
       "    <tr>\n",
       "      <th>381105</th>\n",
       "      <td>0</td>\n",
       "      <td>1</td>\n",
       "      <td>0</td>\n",
       "    </tr>\n",
       "    <tr>\n",
       "      <th>381106</th>\n",
       "      <td>0</td>\n",
       "      <td>1</td>\n",
       "      <td>0</td>\n",
       "    </tr>\n",
       "    <tr>\n",
       "      <th>381107</th>\n",
       "      <td>0</td>\n",
       "      <td>0</td>\n",
       "      <td>1</td>\n",
       "    </tr>\n",
       "    <tr>\n",
       "      <th>381108</th>\n",
       "      <td>1</td>\n",
       "      <td>0</td>\n",
       "      <td>0</td>\n",
       "    </tr>\n",
       "  </tbody>\n",
       "</table>\n",
       "<p>380723 rows × 3 columns</p>\n",
       "</div>"
      ],
      "text/plain": [
       "        1-2 Year  < 1 Year  > 2 Years\n",
       "0              0         0          1\n",
       "1              1         0          0\n",
       "2              0         0          1\n",
       "3              0         1          0\n",
       "4              0         1          0\n",
       "...          ...       ...        ...\n",
       "381104         1         0          0\n",
       "381105         0         1          0\n",
       "381106         0         1          0\n",
       "381107         0         0          1\n",
       "381108         1         0          0\n",
       "\n",
       "[380723 rows x 3 columns]"
      ]
     },
     "execution_count": 51,
     "metadata": {},
     "output_type": "execute_result"
    }
   ],
   "source": [
    "#for 'vehicle age' column\n",
    "vehicle_age_dummy =pd.get_dummies(customer_details['vehicle age'])\n",
    "vehicle_age_dummy"
   ]
  },
  {
   "cell_type": "code",
   "execution_count": 52,
   "id": "a724ce49",
   "metadata": {},
   "outputs": [
    {
     "data": {
      "text/html": [
       "<div>\n",
       "<style scoped>\n",
       "    .dataframe tbody tr th:only-of-type {\n",
       "        vertical-align: middle;\n",
       "    }\n",
       "\n",
       "    .dataframe tbody tr th {\n",
       "        vertical-align: top;\n",
       "    }\n",
       "\n",
       "    .dataframe thead th {\n",
       "        text-align: right;\n",
       "    }\n",
       "</style>\n",
       "<table border=\"1\" class=\"dataframe\">\n",
       "  <thead>\n",
       "    <tr style=\"text-align: right;\">\n",
       "      <th></th>\n",
       "      <th>No</th>\n",
       "      <th>Yes</th>\n",
       "    </tr>\n",
       "  </thead>\n",
       "  <tbody>\n",
       "    <tr>\n",
       "      <th>0</th>\n",
       "      <td>0</td>\n",
       "      <td>1</td>\n",
       "    </tr>\n",
       "    <tr>\n",
       "      <th>1</th>\n",
       "      <td>1</td>\n",
       "      <td>0</td>\n",
       "    </tr>\n",
       "    <tr>\n",
       "      <th>2</th>\n",
       "      <td>0</td>\n",
       "      <td>1</td>\n",
       "    </tr>\n",
       "    <tr>\n",
       "      <th>3</th>\n",
       "      <td>1</td>\n",
       "      <td>0</td>\n",
       "    </tr>\n",
       "    <tr>\n",
       "      <th>4</th>\n",
       "      <td>1</td>\n",
       "      <td>0</td>\n",
       "    </tr>\n",
       "    <tr>\n",
       "      <th>...</th>\n",
       "      <td>...</td>\n",
       "      <td>...</td>\n",
       "    </tr>\n",
       "    <tr>\n",
       "      <th>381104</th>\n",
       "      <td>1</td>\n",
       "      <td>0</td>\n",
       "    </tr>\n",
       "    <tr>\n",
       "      <th>381105</th>\n",
       "      <td>1</td>\n",
       "      <td>0</td>\n",
       "    </tr>\n",
       "    <tr>\n",
       "      <th>381106</th>\n",
       "      <td>1</td>\n",
       "      <td>0</td>\n",
       "    </tr>\n",
       "    <tr>\n",
       "      <th>381107</th>\n",
       "      <td>0</td>\n",
       "      <td>1</td>\n",
       "    </tr>\n",
       "    <tr>\n",
       "      <th>381108</th>\n",
       "      <td>1</td>\n",
       "      <td>0</td>\n",
       "    </tr>\n",
       "  </tbody>\n",
       "</table>\n",
       "<p>380723 rows × 2 columns</p>\n",
       "</div>"
      ],
      "text/plain": [
       "        No  Yes\n",
       "0        0    1\n",
       "1        1    0\n",
       "2        0    1\n",
       "3        1    0\n",
       "4        1    0\n",
       "...     ..  ...\n",
       "381104   1    0\n",
       "381105   1    0\n",
       "381106   1    0\n",
       "381107   0    1\n",
       "381108   1    0\n",
       "\n",
       "[380723 rows x 2 columns]"
      ]
     },
     "execution_count": 52,
     "metadata": {},
     "output_type": "execute_result"
    }
   ],
   "source": [
    "#for 'vehicle damage' column\n",
    "vehicle_damage_dummy = pd.get_dummies(customer_details['vehicle damage'])\n",
    "vehicle_damage_dummy"
   ]
  },
  {
   "cell_type": "markdown",
   "id": "9b9c9756",
   "metadata": {},
   "source": [
    "### vi. Drop Duplicates (duplicated rows)"
   ]
  },
  {
   "cell_type": "code",
   "execution_count": 37,
   "id": "a927e69c",
   "metadata": {},
   "outputs": [
    {
     "data": {
      "text/html": [
       "<div>\n",
       "<style scoped>\n",
       "    .dataframe tbody tr th:only-of-type {\n",
       "        vertical-align: middle;\n",
       "    }\n",
       "\n",
       "    .dataframe tbody tr th {\n",
       "        vertical-align: top;\n",
       "    }\n",
       "\n",
       "    .dataframe thead th {\n",
       "        text-align: right;\n",
       "    }\n",
       "</style>\n",
       "<table border=\"1\" class=\"dataframe\">\n",
       "  <thead>\n",
       "    <tr style=\"text-align: right;\">\n",
       "      <th></th>\n",
       "      <th>customer_id</th>\n",
       "      <th>Gender</th>\n",
       "      <th>age</th>\n",
       "      <th>driving licence present</th>\n",
       "      <th>region code</th>\n",
       "      <th>previously insured</th>\n",
       "      <th>vehicle age</th>\n",
       "      <th>vehicle damage</th>\n",
       "    </tr>\n",
       "  </thead>\n",
       "  <tbody>\n",
       "    <tr>\n",
       "      <th>0</th>\n",
       "      <td>1.0</td>\n",
       "      <td>MALE</td>\n",
       "      <td>44.0</td>\n",
       "      <td>1.0</td>\n",
       "      <td>28.0</td>\n",
       "      <td>0.0</td>\n",
       "      <td>&gt; 2 Years</td>\n",
       "      <td>Yes</td>\n",
       "    </tr>\n",
       "    <tr>\n",
       "      <th>1</th>\n",
       "      <td>2.0</td>\n",
       "      <td>MALE</td>\n",
       "      <td>76.0</td>\n",
       "      <td>1.0</td>\n",
       "      <td>3.0</td>\n",
       "      <td>0.0</td>\n",
       "      <td>1-2 Year</td>\n",
       "      <td>No</td>\n",
       "    </tr>\n",
       "    <tr>\n",
       "      <th>2</th>\n",
       "      <td>3.0</td>\n",
       "      <td>MALE</td>\n",
       "      <td>47.0</td>\n",
       "      <td>1.0</td>\n",
       "      <td>28.0</td>\n",
       "      <td>0.0</td>\n",
       "      <td>&gt; 2 Years</td>\n",
       "      <td>Yes</td>\n",
       "    </tr>\n",
       "    <tr>\n",
       "      <th>3</th>\n",
       "      <td>4.0</td>\n",
       "      <td>MALE</td>\n",
       "      <td>21.0</td>\n",
       "      <td>1.0</td>\n",
       "      <td>11.0</td>\n",
       "      <td>1.0</td>\n",
       "      <td>&lt; 1 Year</td>\n",
       "      <td>No</td>\n",
       "    </tr>\n",
       "    <tr>\n",
       "      <th>4</th>\n",
       "      <td>5.0</td>\n",
       "      <td>FEMALE</td>\n",
       "      <td>29.0</td>\n",
       "      <td>1.0</td>\n",
       "      <td>41.0</td>\n",
       "      <td>1.0</td>\n",
       "      <td>&lt; 1 Year</td>\n",
       "      <td>No</td>\n",
       "    </tr>\n",
       "    <tr>\n",
       "      <th>...</th>\n",
       "      <td>...</td>\n",
       "      <td>...</td>\n",
       "      <td>...</td>\n",
       "      <td>...</td>\n",
       "      <td>...</td>\n",
       "      <td>...</td>\n",
       "      <td>...</td>\n",
       "      <td>...</td>\n",
       "    </tr>\n",
       "    <tr>\n",
       "      <th>381104</th>\n",
       "      <td>381105.0</td>\n",
       "      <td>MALE</td>\n",
       "      <td>74.0</td>\n",
       "      <td>1.0</td>\n",
       "      <td>26.0</td>\n",
       "      <td>1.0</td>\n",
       "      <td>1-2 Year</td>\n",
       "      <td>No</td>\n",
       "    </tr>\n",
       "    <tr>\n",
       "      <th>381105</th>\n",
       "      <td>381106.0</td>\n",
       "      <td>MALE</td>\n",
       "      <td>30.0</td>\n",
       "      <td>1.0</td>\n",
       "      <td>37.0</td>\n",
       "      <td>1.0</td>\n",
       "      <td>&lt; 1 Year</td>\n",
       "      <td>No</td>\n",
       "    </tr>\n",
       "    <tr>\n",
       "      <th>381106</th>\n",
       "      <td>381107.0</td>\n",
       "      <td>MALE</td>\n",
       "      <td>21.0</td>\n",
       "      <td>1.0</td>\n",
       "      <td>30.0</td>\n",
       "      <td>1.0</td>\n",
       "      <td>&lt; 1 Year</td>\n",
       "      <td>No</td>\n",
       "    </tr>\n",
       "    <tr>\n",
       "      <th>381107</th>\n",
       "      <td>381108.0</td>\n",
       "      <td>FEMALE</td>\n",
       "      <td>68.0</td>\n",
       "      <td>1.0</td>\n",
       "      <td>14.0</td>\n",
       "      <td>0.0</td>\n",
       "      <td>&gt; 2 Years</td>\n",
       "      <td>Yes</td>\n",
       "    </tr>\n",
       "    <tr>\n",
       "      <th>381108</th>\n",
       "      <td>381109.0</td>\n",
       "      <td>MALE</td>\n",
       "      <td>46.0</td>\n",
       "      <td>1.0</td>\n",
       "      <td>29.0</td>\n",
       "      <td>0.0</td>\n",
       "      <td>1-2 Year</td>\n",
       "      <td>No</td>\n",
       "    </tr>\n",
       "  </tbody>\n",
       "</table>\n",
       "<p>380723 rows × 8 columns</p>\n",
       "</div>"
      ],
      "text/plain": [
       "        customer_id  Gender   age  driving licence present  region code  \\\n",
       "0               1.0    MALE  44.0                      1.0         28.0   \n",
       "1               2.0    MALE  76.0                      1.0          3.0   \n",
       "2               3.0    MALE  47.0                      1.0         28.0   \n",
       "3               4.0    MALE  21.0                      1.0         11.0   \n",
       "4               5.0  FEMALE  29.0                      1.0         41.0   \n",
       "...             ...     ...   ...                      ...          ...   \n",
       "381104     381105.0    MALE  74.0                      1.0         26.0   \n",
       "381105     381106.0    MALE  30.0                      1.0         37.0   \n",
       "381106     381107.0    MALE  21.0                      1.0         30.0   \n",
       "381107     381108.0  FEMALE  68.0                      1.0         14.0   \n",
       "381108     381109.0    MALE  46.0                      1.0         29.0   \n",
       "\n",
       "        previously insured vehicle age vehicle damage  \n",
       "0                      0.0   > 2 Years            Yes  \n",
       "1                      0.0    1-2 Year             No  \n",
       "2                      0.0   > 2 Years            Yes  \n",
       "3                      1.0    < 1 Year             No  \n",
       "4                      1.0    < 1 Year             No  \n",
       "...                    ...         ...            ...  \n",
       "381104                 1.0    1-2 Year             No  \n",
       "381105                 1.0    < 1 Year             No  \n",
       "381106                 1.0    < 1 Year             No  \n",
       "381107                 0.0   > 2 Years            Yes  \n",
       "381108                 0.0    1-2 Year             No  \n",
       "\n",
       "[380723 rows x 8 columns]"
      ]
     },
     "execution_count": 37,
     "metadata": {},
     "output_type": "execute_result"
    }
   ],
   "source": [
    "#drop duplicated rows\n",
    "customer_details = customer_details.drop_duplicates()\n",
    "customer_details"
   ]
  },
  {
   "cell_type": "code",
   "execution_count": 38,
   "id": "91f39f10",
   "metadata": {},
   "outputs": [
    {
     "data": {
      "text/html": [
       "<div>\n",
       "<style scoped>\n",
       "    .dataframe tbody tr th:only-of-type {\n",
       "        vertical-align: middle;\n",
       "    }\n",
       "\n",
       "    .dataframe tbody tr th {\n",
       "        vertical-align: top;\n",
       "    }\n",
       "\n",
       "    .dataframe thead th {\n",
       "        text-align: right;\n",
       "    }\n",
       "</style>\n",
       "<table border=\"1\" class=\"dataframe\">\n",
       "  <thead>\n",
       "    <tr style=\"text-align: right;\">\n",
       "      <th></th>\n",
       "      <th>customer_id</th>\n",
       "      <th>annual premium (in rs)</th>\n",
       "      <th>sales channel code</th>\n",
       "      <th>vintage</th>\n",
       "      <th>response</th>\n",
       "    </tr>\n",
       "  </thead>\n",
       "  <tbody>\n",
       "    <tr>\n",
       "      <th>0</th>\n",
       "      <td>1.0</td>\n",
       "      <td>40454.0</td>\n",
       "      <td>26.0</td>\n",
       "      <td>217.0</td>\n",
       "      <td>1.0</td>\n",
       "    </tr>\n",
       "    <tr>\n",
       "      <th>1</th>\n",
       "      <td>2.0</td>\n",
       "      <td>33536.0</td>\n",
       "      <td>26.0</td>\n",
       "      <td>183.0</td>\n",
       "      <td>0.0</td>\n",
       "    </tr>\n",
       "    <tr>\n",
       "      <th>2</th>\n",
       "      <td>3.0</td>\n",
       "      <td>38294.0</td>\n",
       "      <td>26.0</td>\n",
       "      <td>27.0</td>\n",
       "      <td>1.0</td>\n",
       "    </tr>\n",
       "    <tr>\n",
       "      <th>3</th>\n",
       "      <td>4.0</td>\n",
       "      <td>28619.0</td>\n",
       "      <td>152.0</td>\n",
       "      <td>203.0</td>\n",
       "      <td>0.0</td>\n",
       "    </tr>\n",
       "    <tr>\n",
       "      <th>4</th>\n",
       "      <td>5.0</td>\n",
       "      <td>27496.0</td>\n",
       "      <td>152.0</td>\n",
       "      <td>39.0</td>\n",
       "      <td>0.0</td>\n",
       "    </tr>\n",
       "    <tr>\n",
       "      <th>...</th>\n",
       "      <td>...</td>\n",
       "      <td>...</td>\n",
       "      <td>...</td>\n",
       "      <td>...</td>\n",
       "      <td>...</td>\n",
       "    </tr>\n",
       "    <tr>\n",
       "      <th>381104</th>\n",
       "      <td>381105.0</td>\n",
       "      <td>30170.0</td>\n",
       "      <td>26.0</td>\n",
       "      <td>88.0</td>\n",
       "      <td>0.0</td>\n",
       "    </tr>\n",
       "    <tr>\n",
       "      <th>381105</th>\n",
       "      <td>381106.0</td>\n",
       "      <td>40016.0</td>\n",
       "      <td>152.0</td>\n",
       "      <td>131.0</td>\n",
       "      <td>0.0</td>\n",
       "    </tr>\n",
       "    <tr>\n",
       "      <th>381106</th>\n",
       "      <td>381107.0</td>\n",
       "      <td>35118.0</td>\n",
       "      <td>160.0</td>\n",
       "      <td>161.0</td>\n",
       "      <td>0.0</td>\n",
       "    </tr>\n",
       "    <tr>\n",
       "      <th>381107</th>\n",
       "      <td>381108.0</td>\n",
       "      <td>44617.0</td>\n",
       "      <td>124.0</td>\n",
       "      <td>74.0</td>\n",
       "      <td>0.0</td>\n",
       "    </tr>\n",
       "    <tr>\n",
       "      <th>381108</th>\n",
       "      <td>381109.0</td>\n",
       "      <td>41777.0</td>\n",
       "      <td>26.0</td>\n",
       "      <td>237.0</td>\n",
       "      <td>0.0</td>\n",
       "    </tr>\n",
       "  </tbody>\n",
       "</table>\n",
       "<p>380722 rows × 5 columns</p>\n",
       "</div>"
      ],
      "text/plain": [
       "        customer_id  annual premium (in rs)  sales channel code  vintage  \\\n",
       "0               1.0                 40454.0                26.0    217.0   \n",
       "1               2.0                 33536.0                26.0    183.0   \n",
       "2               3.0                 38294.0                26.0     27.0   \n",
       "3               4.0                 28619.0               152.0    203.0   \n",
       "4               5.0                 27496.0               152.0     39.0   \n",
       "...             ...                     ...                 ...      ...   \n",
       "381104     381105.0                 30170.0                26.0     88.0   \n",
       "381105     381106.0                 40016.0               152.0    131.0   \n",
       "381106     381107.0                 35118.0               160.0    161.0   \n",
       "381107     381108.0                 44617.0               124.0     74.0   \n",
       "381108     381109.0                 41777.0                26.0    237.0   \n",
       "\n",
       "        response  \n",
       "0            1.0  \n",
       "1            0.0  \n",
       "2            1.0  \n",
       "3            0.0  \n",
       "4            0.0  \n",
       "...          ...  \n",
       "381104       0.0  \n",
       "381105       0.0  \n",
       "381106       0.0  \n",
       "381107       0.0  \n",
       "381108       0.0  \n",
       "\n",
       "[380722 rows x 5 columns]"
      ]
     },
     "execution_count": 38,
     "metadata": {},
     "output_type": "execute_result"
    }
   ],
   "source": [
    "customer_policy_details = customer_policy_details.drop_duplicates()\n",
    "customer_policy_details"
   ]
  },
  {
   "cell_type": "markdown",
   "id": "739212c4",
   "metadata": {},
   "source": [
    "##  3. Create a Master table for future use. Join the customer table and customer_policy table to get a master table using customer_id in both tables."
   ]
  },
  {
   "cell_type": "code",
   "execution_count": 39,
   "id": "292798b7",
   "metadata": {},
   "outputs": [],
   "source": [
    "master_table = pd.merge(customer_details,customer_policy_details,on = 'customer_id')"
   ]
  },
  {
   "cell_type": "code",
   "execution_count": 40,
   "id": "fa10183b",
   "metadata": {},
   "outputs": [
    {
     "data": {
      "text/html": [
       "<div>\n",
       "<style scoped>\n",
       "    .dataframe tbody tr th:only-of-type {\n",
       "        vertical-align: middle;\n",
       "    }\n",
       "\n",
       "    .dataframe tbody tr th {\n",
       "        vertical-align: top;\n",
       "    }\n",
       "\n",
       "    .dataframe thead th {\n",
       "        text-align: right;\n",
       "    }\n",
       "</style>\n",
       "<table border=\"1\" class=\"dataframe\">\n",
       "  <thead>\n",
       "    <tr style=\"text-align: right;\">\n",
       "      <th></th>\n",
       "      <th>customer_id</th>\n",
       "      <th>Gender</th>\n",
       "      <th>age</th>\n",
       "      <th>driving licence present</th>\n",
       "      <th>region code</th>\n",
       "      <th>previously insured</th>\n",
       "      <th>vehicle age</th>\n",
       "      <th>vehicle damage</th>\n",
       "      <th>annual premium (in rs)</th>\n",
       "      <th>sales channel code</th>\n",
       "      <th>vintage</th>\n",
       "      <th>response</th>\n",
       "    </tr>\n",
       "  </thead>\n",
       "  <tbody>\n",
       "    <tr>\n",
       "      <th>0</th>\n",
       "      <td>1.0</td>\n",
       "      <td>MALE</td>\n",
       "      <td>44.0</td>\n",
       "      <td>1.0</td>\n",
       "      <td>28.0</td>\n",
       "      <td>0.0</td>\n",
       "      <td>&gt; 2 Years</td>\n",
       "      <td>Yes</td>\n",
       "      <td>40454.0</td>\n",
       "      <td>26.0</td>\n",
       "      <td>217.0</td>\n",
       "      <td>1.0</td>\n",
       "    </tr>\n",
       "    <tr>\n",
       "      <th>1</th>\n",
       "      <td>2.0</td>\n",
       "      <td>MALE</td>\n",
       "      <td>76.0</td>\n",
       "      <td>1.0</td>\n",
       "      <td>3.0</td>\n",
       "      <td>0.0</td>\n",
       "      <td>1-2 Year</td>\n",
       "      <td>No</td>\n",
       "      <td>33536.0</td>\n",
       "      <td>26.0</td>\n",
       "      <td>183.0</td>\n",
       "      <td>0.0</td>\n",
       "    </tr>\n",
       "    <tr>\n",
       "      <th>2</th>\n",
       "      <td>3.0</td>\n",
       "      <td>MALE</td>\n",
       "      <td>47.0</td>\n",
       "      <td>1.0</td>\n",
       "      <td>28.0</td>\n",
       "      <td>0.0</td>\n",
       "      <td>&gt; 2 Years</td>\n",
       "      <td>Yes</td>\n",
       "      <td>38294.0</td>\n",
       "      <td>26.0</td>\n",
       "      <td>27.0</td>\n",
       "      <td>1.0</td>\n",
       "    </tr>\n",
       "    <tr>\n",
       "      <th>3</th>\n",
       "      <td>4.0</td>\n",
       "      <td>MALE</td>\n",
       "      <td>21.0</td>\n",
       "      <td>1.0</td>\n",
       "      <td>11.0</td>\n",
       "      <td>1.0</td>\n",
       "      <td>&lt; 1 Year</td>\n",
       "      <td>No</td>\n",
       "      <td>28619.0</td>\n",
       "      <td>152.0</td>\n",
       "      <td>203.0</td>\n",
       "      <td>0.0</td>\n",
       "    </tr>\n",
       "    <tr>\n",
       "      <th>4</th>\n",
       "      <td>5.0</td>\n",
       "      <td>FEMALE</td>\n",
       "      <td>29.0</td>\n",
       "      <td>1.0</td>\n",
       "      <td>41.0</td>\n",
       "      <td>1.0</td>\n",
       "      <td>&lt; 1 Year</td>\n",
       "      <td>No</td>\n",
       "      <td>27496.0</td>\n",
       "      <td>152.0</td>\n",
       "      <td>39.0</td>\n",
       "      <td>0.0</td>\n",
       "    </tr>\n",
       "    <tr>\n",
       "      <th>...</th>\n",
       "      <td>...</td>\n",
       "      <td>...</td>\n",
       "      <td>...</td>\n",
       "      <td>...</td>\n",
       "      <td>...</td>\n",
       "      <td>...</td>\n",
       "      <td>...</td>\n",
       "      <td>...</td>\n",
       "      <td>...</td>\n",
       "      <td>...</td>\n",
       "      <td>...</td>\n",
       "      <td>...</td>\n",
       "    </tr>\n",
       "    <tr>\n",
       "      <th>380331</th>\n",
       "      <td>381105.0</td>\n",
       "      <td>MALE</td>\n",
       "      <td>74.0</td>\n",
       "      <td>1.0</td>\n",
       "      <td>26.0</td>\n",
       "      <td>1.0</td>\n",
       "      <td>1-2 Year</td>\n",
       "      <td>No</td>\n",
       "      <td>30170.0</td>\n",
       "      <td>26.0</td>\n",
       "      <td>88.0</td>\n",
       "      <td>0.0</td>\n",
       "    </tr>\n",
       "    <tr>\n",
       "      <th>380332</th>\n",
       "      <td>381106.0</td>\n",
       "      <td>MALE</td>\n",
       "      <td>30.0</td>\n",
       "      <td>1.0</td>\n",
       "      <td>37.0</td>\n",
       "      <td>1.0</td>\n",
       "      <td>&lt; 1 Year</td>\n",
       "      <td>No</td>\n",
       "      <td>40016.0</td>\n",
       "      <td>152.0</td>\n",
       "      <td>131.0</td>\n",
       "      <td>0.0</td>\n",
       "    </tr>\n",
       "    <tr>\n",
       "      <th>380333</th>\n",
       "      <td>381107.0</td>\n",
       "      <td>MALE</td>\n",
       "      <td>21.0</td>\n",
       "      <td>1.0</td>\n",
       "      <td>30.0</td>\n",
       "      <td>1.0</td>\n",
       "      <td>&lt; 1 Year</td>\n",
       "      <td>No</td>\n",
       "      <td>35118.0</td>\n",
       "      <td>160.0</td>\n",
       "      <td>161.0</td>\n",
       "      <td>0.0</td>\n",
       "    </tr>\n",
       "    <tr>\n",
       "      <th>380334</th>\n",
       "      <td>381108.0</td>\n",
       "      <td>FEMALE</td>\n",
       "      <td>68.0</td>\n",
       "      <td>1.0</td>\n",
       "      <td>14.0</td>\n",
       "      <td>0.0</td>\n",
       "      <td>&gt; 2 Years</td>\n",
       "      <td>Yes</td>\n",
       "      <td>44617.0</td>\n",
       "      <td>124.0</td>\n",
       "      <td>74.0</td>\n",
       "      <td>0.0</td>\n",
       "    </tr>\n",
       "    <tr>\n",
       "      <th>380335</th>\n",
       "      <td>381109.0</td>\n",
       "      <td>MALE</td>\n",
       "      <td>46.0</td>\n",
       "      <td>1.0</td>\n",
       "      <td>29.0</td>\n",
       "      <td>0.0</td>\n",
       "      <td>1-2 Year</td>\n",
       "      <td>No</td>\n",
       "      <td>41777.0</td>\n",
       "      <td>26.0</td>\n",
       "      <td>237.0</td>\n",
       "      <td>0.0</td>\n",
       "    </tr>\n",
       "  </tbody>\n",
       "</table>\n",
       "<p>380336 rows × 12 columns</p>\n",
       "</div>"
      ],
      "text/plain": [
       "        customer_id  Gender   age  driving licence present  region code  \\\n",
       "0               1.0    MALE  44.0                      1.0         28.0   \n",
       "1               2.0    MALE  76.0                      1.0          3.0   \n",
       "2               3.0    MALE  47.0                      1.0         28.0   \n",
       "3               4.0    MALE  21.0                      1.0         11.0   \n",
       "4               5.0  FEMALE  29.0                      1.0         41.0   \n",
       "...             ...     ...   ...                      ...          ...   \n",
       "380331     381105.0    MALE  74.0                      1.0         26.0   \n",
       "380332     381106.0    MALE  30.0                      1.0         37.0   \n",
       "380333     381107.0    MALE  21.0                      1.0         30.0   \n",
       "380334     381108.0  FEMALE  68.0                      1.0         14.0   \n",
       "380335     381109.0    MALE  46.0                      1.0         29.0   \n",
       "\n",
       "        previously insured vehicle age vehicle damage  annual premium (in rs)  \\\n",
       "0                      0.0   > 2 Years            Yes                 40454.0   \n",
       "1                      0.0    1-2 Year             No                 33536.0   \n",
       "2                      0.0   > 2 Years            Yes                 38294.0   \n",
       "3                      1.0    < 1 Year             No                 28619.0   \n",
       "4                      1.0    < 1 Year             No                 27496.0   \n",
       "...                    ...         ...            ...                     ...   \n",
       "380331                 1.0    1-2 Year             No                 30170.0   \n",
       "380332                 1.0    < 1 Year             No                 40016.0   \n",
       "380333                 1.0    < 1 Year             No                 35118.0   \n",
       "380334                 0.0   > 2 Years            Yes                 44617.0   \n",
       "380335                 0.0    1-2 Year             No                 41777.0   \n",
       "\n",
       "        sales channel code  vintage  response  \n",
       "0                     26.0    217.0       1.0  \n",
       "1                     26.0    183.0       0.0  \n",
       "2                     26.0     27.0       1.0  \n",
       "3                    152.0    203.0       0.0  \n",
       "4                    152.0     39.0       0.0  \n",
       "...                    ...      ...       ...  \n",
       "380331                26.0     88.0       0.0  \n",
       "380332               152.0    131.0       0.0  \n",
       "380333               160.0    161.0       0.0  \n",
       "380334               124.0     74.0       0.0  \n",
       "380335                26.0    237.0       0.0  \n",
       "\n",
       "[380336 rows x 12 columns]"
      ]
     },
     "execution_count": 40,
     "metadata": {},
     "output_type": "execute_result"
    }
   ],
   "source": [
    "master_table"
   ]
  },
  {
   "cell_type": "markdown",
   "id": "ba9d0ae9",
   "metadata": {},
   "source": [
    "##  4. Company needs some important information from the master table to make decisions for future growth.They needs following information:"
   ]
  },
  {
   "cell_type": "markdown",
   "id": "9140e6fe",
   "metadata": {},
   "source": [
    "###   i. Gender wise average annual premium"
   ]
  },
  {
   "cell_type": "code",
   "execution_count": 41,
   "id": "b9f786c6",
   "metadata": {},
   "outputs": [
    {
     "name": "stdout",
     "output_type": "stream",
     "text": [
      "Gender wise average annual premium\n",
      "Gender\n",
      "FEMALE    30492.028478\n",
      "MALE      30623.619273\n",
      "Name: annual premium (in rs), dtype: float64\n"
     ]
    }
   ],
   "source": [
    "#Gender wise average annual premium\n",
    "print('Gender wise average annual premium')\n",
    "print(master_table.groupby('Gender')['annual premium (in rs)'].mean())"
   ]
  },
  {
   "cell_type": "code",
   "execution_count": 57,
   "id": "61f679a8",
   "metadata": {},
   "outputs": [
    {
     "data": {
      "text/plain": [
       "<AxesSubplot:xlabel='Gender', ylabel='Annual Premium (in Rs)'>"
      ]
     },
     "execution_count": 57,
     "metadata": {},
     "output_type": "execute_result"
    },
    {
     "data": {
      "image/png": "[encoded data removed]",
      "text/plain": [
       "<Figure size 432x288 with 1 Axes>"
      ]
     },
     "metadata": {
      "needs_background": "light"
     },
     "output_type": "display_data"
    }
   ],
   "source": [
    "master_table.groupby('Gender')['annual premium (in rs)'].mean().plot.bar(ylabel = 'Annual Premium (in Rs)')"
   ]
  },
  {
   "cell_type": "markdown",
   "id": "49ff17cf",
   "metadata": {},
   "source": [
    "###  ii. Age wise average annual premium"
   ]
  },
  {
   "cell_type": "code",
   "execution_count": 43,
   "id": "1c44d8cb",
   "metadata": {},
   "outputs": [
    {
     "name": "stdout",
     "output_type": "stream",
     "text": [
      "Age wise average annual premium\n",
      "age\n",
      "20.0    26924.620173\n",
      "21.0    30564.475810\n",
      "22.0    30823.778102\n",
      "23.0    30688.606298\n",
      "24.0    31183.802890\n",
      "            ...     \n",
      "81.0    31201.571429\n",
      "82.0    37705.379310\n",
      "83.0    31012.727273\n",
      "84.0    35440.818182\n",
      "85.0    29792.363636\n",
      "Name: annual premium (in rs), Length: 67, dtype: float64\n"
     ]
    }
   ],
   "source": [
    "#Age wise average annual premium\n",
    "print('Age wise average annual premium')\n",
    "print(master_table.groupby('age')['annual premium (in rs)'].mean())"
   ]
  },
  {
   "cell_type": "code",
   "execution_count": 66,
   "id": "f165e0b3",
   "metadata": {},
   "outputs": [
    {
     "data": {
      "text/plain": [
       "<AxesSubplot:xlabel='age'>"
      ]
     },
     "execution_count": 66,
     "metadata": {},
     "output_type": "execute_result"
    },
    {
     "data": {
      "image/png": "[encoded data removed]",
      "text/plain": [
       "<Figure size 432x288 with 1 Axes>"
      ]
     },
     "metadata": {
      "needs_background": "light"
     },
     "output_type": "display_data"
    }
   ],
   "source": [
    "master_table.groupby('age')['annual premium (in rs)'].mean().plot()"
   ]
  },
  {
   "cell_type": "markdown",
   "id": "6f6cf7f4",
   "metadata": {},
   "source": [
    "###  iii. Is your data balanced between the genders?"
   ]
  },
  {
   "cell_type": "code",
   "execution_count": 67,
   "id": "69325939",
   "metadata": {},
   "outputs": [
    {
     "name": "stdout",
     "output_type": "stream",
     "text": [
      "Data is balanced gender wise\n"
     ]
    },
    {
     "data": {
      "text/plain": [
       "<AxesSubplot:xlabel='Gender', ylabel='Annual Premium (in Rs)'>"
      ]
     },
     "execution_count": 67,
     "metadata": {},
     "output_type": "execute_result"
    },
    {
     "data": {
      "image/png": "[encoded data removed]",
      "text/plain": [
       "<Figure size 432x288 with 1 Axes>"
      ]
     },
     "metadata": {
      "needs_background": "light"
     },
     "output_type": "display_data"
    }
   ],
   "source": [
    "if master_table.groupby('Gender')['annual premium (in rs)'].mean().value_counts().iloc[0] == master_table.groupby('Gender')['annual premium (in rs)'].mean().value_counts().iloc[1]:\n",
    "    print('Data is balanced gender wise')\n",
    "else:\n",
    "    print('Data is not balance gender wise')\n",
    "master_table.groupby('Gender')['annual premium (in rs)'].mean().plot.bar(ylabel = 'Annual Premium (in Rs)')"
   ]
  },
  {
   "cell_type": "markdown",
   "id": "b3729add",
   "metadata": {},
   "source": [
    "### iv. Vehicle age wise average annual premium."
   ]
  },
  {
   "cell_type": "code",
   "execution_count": 46,
   "id": "09de83a8",
   "metadata": {},
   "outputs": [
    {
     "name": "stdout",
     "output_type": "stream",
     "text": [
      "Vehicle age wise average annual premium\n",
      "vehicle age\n",
      "1-2 Year     30524.629840\n",
      "< 1 Year     30115.716367\n",
      "> 2 Years    35657.520845\n",
      "Name: annual premium (in rs), dtype: float64\n"
     ]
    }
   ],
   "source": [
    "print('Vehicle age wise average annual premium')\n",
    "print(master_table.groupby('vehicle age')['annual premium (in rs)'].mean())"
   ]
  },
  {
   "cell_type": "code",
   "execution_count": 47,
   "id": "05d16661",
   "metadata": {},
   "outputs": [
    {
     "data": {
      "text/plain": [
       "<AxesSubplot:xlabel='vehicle age'>"
      ]
     },
     "execution_count": 47,
     "metadata": {},
     "output_type": "execute_result"
    },
    {
     "data": {
      "image/png": "[encoded data removed]",
      "text/plain": [
       "<Figure size 432x288 with 1 Axes>"
      ]
     },
     "metadata": {
      "needs_background": "light"
     },
     "output_type": "display_data"
    }
   ],
   "source": [
    "master_table.groupby('vehicle age')['annual premium (in rs)'].mean().plot.bar()"
   ]
  },
  {
   "cell_type": "markdown",
   "id": "3f9658f7",
   "metadata": {},
   "source": [
    "##  5. Is there any relation between Person Age and annual premium?"
   ]
  },
  {
   "cell_type": "code",
   "execution_count": 48,
   "id": "2657d0c9",
   "metadata": {},
   "outputs": [
    {
     "data": {
      "text/plain": [
       "0.06771515986613913"
      ]
     },
     "execution_count": 48,
     "metadata": {},
     "output_type": "execute_result"
    }
   ],
   "source": [
    "correlation_coefficient = master_table['age'].corr(master_table['annual premium (in rs)'])\n",
    "correlation_coefficient"
   ]
  },
  {
   "cell_type": "code",
   "execution_count": 49,
   "id": "7335b3d9",
   "metadata": {},
   "outputs": [
    {
     "name": "stdout",
     "output_type": "stream",
     "text": [
      "There is a good relation between Person Age and Annual Premium\n"
     ]
    }
   ],
   "source": [
    "if correlation_coefficient < -0.5:\n",
    "    print('There is Strong negative relationship between Person Age and Annual Premium')\n",
    "elif correlation_coefficient > 0.5:\n",
    "    print('There is Strong postive relationship between Person Age and Annual Premium')\n",
    "elif correlation_coefficient < 0.5 and 0.5 < correlation_coefficient:\n",
    "    print('There is no relation between Person Age and Annual Premium')\n",
    "else:\n",
    "    print('There is a good relation between Person Age and Annual Premium')"
   ]
  },
  {
   "cell_type": "code",
   "execution_count": null,
   "id": "6066388c",
   "metadata": {},
   "outputs": [],
   "source": []
  }
 ],
 "metadata": {
  "kernelspec": {
   "display_name": "Python 3 (ipykernel)",
   "language": "python",
   "name": "python3"
  },
  "language_info": {
   "codemirror_mode": {
    "name": "ipython",
    "version": 3
   },
   "file_extension": ".py",
   "mimetype": "text/x-python",
   "name": "python",
   "nbconvert_exporter": "python",
   "pygments_lexer": "ipython3",
   "version": "3.9.12"
  }
 },
 "nbformat": 4,
 "nbformat_minor": 5
}
